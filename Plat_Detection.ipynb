{
  "cells": [
    {
      "cell_type": "markdown",
      "metadata": {
        "id": "084u8u0DpBlo"
      },
      "source": [
        "# PLAT DETECTION with the Gemini API"
      ]
    },
    {
      "cell_type": "markdown",
      "metadata": {
        "id": "G6J_rV2ipmj_"
      },
      "source": [
        "### Install the Python SDK and import packages"
      ]
    },
    {
      "cell_type": "code",
      "execution_count": 2,
      "metadata": {
        "id": "mN8x8DPgu9Kv"
      },
      "outputs": [],
      "source": [
        "!pip install -q -U google-generativeai"
      ]
    },
    {
      "cell_type": "markdown",
      "metadata": {
        "id": "NInUZ4hwDq6d"
      },
      "source": [
        "Import the necessary packages."
      ]
    },
    {
      "cell_type": "code",
      "execution_count": 3,
      "metadata": {
        "id": "0x3xmmWrDtEH"
      },
      "outputs": [],
      "source": [
        "import google.generativeai as genai\n",
        "from IPython.display import Markdown"
      ]
    },
    {
      "cell_type": "markdown",
      "metadata": {
        "id": "l8g4hTRotheH"
      },
      "source": [
        "### Set up your API key"
      ]
    },
    {
      "cell_type": "code",
      "execution_count": 4,
      "metadata": {
        "id": "d6lYXRcjthKV"
      },
      "outputs": [],
      "source": [
        "from google.colab import userdata\n",
        "GOOGLE_API_KEY=userdata.get('GOOGLE_API_KEY')\n",
        "\n",
        "genai.configure(api_key=GOOGLE_API_KEY)"
      ]
    },
    {
      "cell_type": "markdown",
      "metadata": {
        "id": "c-z4zsCUlaru"
      },
      "source": [
        "## Prompting with images"
      ]
    },
    {
      "cell_type": "markdown",
      "metadata": {
        "id": "2fa34d5c0db8"
      },
      "source": [
        "## Image input\n",
        "\n",
        "For total image payload size less than 20MB, it's recommended to either upload\n",
        "base64 encoded images or directly upload locally stored image files."
      ]
    },
    {
      "cell_type": "markdown",
      "metadata": {
        "id": "8336e412da3e"
      },
      "source": [
        "### Base64 encoded images\n",
        "\n",
        "upload public image URLs by encoding them as Base64 payloads.\n",
        "use the httpx library to fetch the image URLs."
      ]
    },
    {
      "cell_type": "code",
      "execution_count": 5,
      "metadata": {
        "id": "aa9a0e452544",
        "collapsed": true
      },
      "outputs": [],
      "source": [
        "import httpx\n",
        "import base64\n"
      ]
    },
    {
      "cell_type": "code",
      "source": [
        "# PLAT DETECTION\n",
        "import PIL.Image\n",
        "import google.generativeai as genai\n",
        "\n",
        "# Choose a Gemini model.\n",
        "model = genai.GenerativeModel(model_name=\"gemini-1.5-pro-latest\")\n",
        "sample_file_1 = PIL.Image.open('mobil1.jpg')\n",
        "\n",
        "# Create a prompt.\n",
        "prompt = \"Read the plat number of the image with the output example  {‘plat_no’: ‘B 1234 ABC’,‘vehicle’: ‘car’,‘vehicle_type’: ‘sedan’,‘expire date’: ‘07.25’,‘color’: ‘red’,‘manufacturing_date’: ‘01.20’,‘registered in’: ‘bekasi kota’,‘gate_open’: ‘2024-12-02 18.15.01’,‘gate_closed’: ‘N/A’,}\"\n",
        "\n",
        "response = model.generate_content([sample_file_1, prompt])\n",
        "\n",
        "Markdown(response.text)"
      ],
      "metadata": {
        "id": "Kx-RQHqCvnKE",
        "colab": {
          "base_uri": "https://localhost:8080/",
          "height": 208
        },
        "outputId": "c7571902-2187-40af-c4dd-222358c4540b"
      },
      "execution_count": 10,
      "outputs": [
        {
          "output_type": "execute_result",
          "data": {
            "text/plain": [
              "<IPython.core.display.Markdown object>"
            ],
            "text/markdown": "```json\n{\n  \"plat_no\": \"AB 1411 TY\",\n  \"vehicle\": \"car\",\n  \"vehicle_type\": \"MPV\",  \n  \"expire_date\": \"N/A\",\n  \"color\": \"silver\",\n  \"manufacturing_date\": \"N/A\",\n  \"registered_in\": \"N/A\",\n  \"gate_open\": \"N/A\",\n  \"gate_closed\": \"N/A\"\n}\n```"
          },
          "metadata": {},
          "execution_count": 10
        }
      ]
    },
    {
      "cell_type": "code",
      "source": [
        "# PLAT DETECTION\n",
        "import PIL.Image\n",
        "import google.generativeai as genai\n",
        "\n",
        "# Choose a Gemini model.\n",
        "model = genai.GenerativeModel(model_name=\"gemini-1.5-pro-latest\")\n",
        "sample_file_2 = PIL.Image.open('mobil2.jpg')\n",
        "\n",
        "# Create a prompt.\n",
        "prompt = \"Read the plat number of the image with the output example  {‘plat_no’: ‘B 1234 ABC’,‘vehicle’: ‘car’,‘vehicle_type’: ‘sedan’,‘expire date’: ‘07.25’,‘color’: ‘red’,‘manufacturing_date’: ‘01.20’,‘registered in’: ‘bekasi kota’,‘gate_open’: ‘2024-12-02 18.15.01’,‘gate_closed’: ‘N/A’,}\"\n",
        "\n",
        "response = model.generate_content([sample_file_2, prompt])\n",
        "\n",
        "Markdown(response.text)"
      ],
      "metadata": {
        "colab": {
          "base_uri": "https://localhost:8080/",
          "height": 208
        },
        "id": "mO_JimAqRHuA",
        "outputId": "f4ecc064-c37c-4706-d440-a57d532af35f"
      },
      "execution_count": 11,
      "outputs": [
        {
          "output_type": "execute_result",
          "data": {
            "text/plain": [
              "<IPython.core.display.Markdown object>"
            ],
            "text/markdown": "```json\n{\n  'plat_no': 'AB 1274 GY',\n  'vehicle': 'car',\n  'vehicle_type': 'MPV',\n  'expire_date': '12-21',\n  'color': 'black',\n  'manufacturing_date': 'N/A',\n  'registered_in': 'N/A',\n  'gate_open': 'N/A',\n  'gate_closed': 'N/A'\n}\n```"
          },
          "metadata": {},
          "execution_count": 11
        }
      ]
    },
    {
      "cell_type": "code",
      "source": [
        "# PLAT DETECTION\n",
        "import PIL.Image\n",
        "import google.generativeai as genai\n",
        "\n",
        "# Choose a Gemini model.\n",
        "model = genai.GenerativeModel(model_name=\"gemini-1.5-pro-latest\")\n",
        "sample_file_3 = PIL.Image.open('mobil3.jpg')\n",
        "\n",
        "# Create a prompt.\n",
        "prompt = \"Read the plat number of the image with the output example  {‘plat_no’: ‘B 1234 ABC’,‘vehicle’: ‘car’,‘vehicle_type’: ‘sedan’,‘expire date’: ‘07.25’,‘color’: ‘red’,‘manufacturing_date’: ‘01.20’,‘registered in’: ‘bekasi kota’,‘gate_open’: ‘2024-12-02 18.15.01’,‘gate_closed’: ‘N/A’,}\"\n",
        "\n",
        "response = model.generate_content([sample_file_3, prompt])\n",
        "\n",
        "Markdown(response.text)"
      ],
      "metadata": {
        "colab": {
          "base_uri": "https://localhost:8080/",
          "height": 208
        },
        "id": "tDQz7Ee0uZhd",
        "outputId": "0023ff80-9956-45fa-adfd-346278a12c43"
      },
      "execution_count": 12,
      "outputs": [
        {
          "output_type": "execute_result",
          "data": {
            "text/plain": [
              "<IPython.core.display.Markdown object>"
            ],
            "text/markdown": "```json\n{\n  'plat_no': 'B 1675 SST',\n  'vehicle': 'car',\n  'vehicle_type': 'MPV',\n  'expire_date': '03-19',\n  'color': 'blue',\n  'manufacturing_date': 'N/A',\n  'registered_in': 'N/A',\n  'gate_open': 'N/A',\n  'gate_closed': 'N/A'\n}\n```"
          },
          "metadata": {},
          "execution_count": 12
        }
      ]
    },
    {
      "cell_type": "code",
      "source": [
        "# PLAT DETECTION\n",
        "import PIL.Image\n",
        "import google.generativeai as genai\n",
        "\n",
        "# Choose a Gemini model.\n",
        "model = genai.GenerativeModel(model_name=\"gemini-1.5-pro-latest\")\n",
        "sample_file_4 = PIL.Image.open('mobil4.jpg')\n",
        "\n",
        "# Create a prompt.\n",
        "prompt = \"Read the plat number of the image with the output example  {‘plat_no’: ‘B 1234 ABC’,‘vehicle’: ‘car’,‘vehicle_type’: ‘sedan’,‘expire date’: ‘07.25’,‘color’: ‘red’,‘manufacturing_date’: ‘01.20’,‘registered in’: ‘bekasi kota’,‘gate_open’: ‘2024-12-02 18.15.01’,‘gate_closed’: ‘N/A’,}\"\n",
        "\n",
        "response = model.generate_content([sample_file_4, prompt])\n",
        "\n",
        "Markdown(response.text)"
      ],
      "metadata": {
        "colab": {
          "base_uri": "https://localhost:8080/",
          "height": 208
        },
        "id": "60JXN9tsujjh",
        "outputId": "a0e61377-4f67-4e95-8f72-455d17d3c877"
      },
      "execution_count": 13,
      "outputs": [
        {
          "output_type": "execute_result",
          "data": {
            "text/plain": [
              "<IPython.core.display.Markdown object>"
            ],
            "text/markdown": "```json\n{\n  'plat_no': 'B 121504-VII',\n  'vehicle': 'car',\n  'vehicle_type': 'sedan',\n  'expire_date': 'N/A',\n  'color': 'white and blue',\n  'manufacturing_date': 'N/A',\n  'registered_in': 'N/A',\n  'gate_open': 'N/A',\n  'gate_closed': 'N/A'\n}\n```"
          },
          "metadata": {},
          "execution_count": 13
        }
      ]
    },
    {
      "cell_type": "code",
      "source": [
        "# PLAT DETECTION\n",
        "import PIL.Image\n",
        "import google.generativeai as genai\n",
        "\n",
        "# Choose a Gemini model.\n",
        "model = genai.GenerativeModel(model_name=\"gemini-1.5-pro-latest\")\n",
        "sample_file_5 = PIL.Image.open('mobil5.jpg')\n",
        "\n",
        "# Create a prompt.\n",
        "prompt = \"Read the plat number of the image with the output example  {‘plat_no’: ‘B 1234 ABC’,‘vehicle’: ‘car’,‘vehicle_type’: ‘sedan’,‘expire date’: ‘07.25’,‘color’: ‘red’,‘manufacturing_date’: ‘01.20’,‘registered in’: ‘bekasi kota’,‘gate_open’: ‘2024-12-02 18.15.01’,‘gate_closed’: ‘N/A’,}\"\n",
        "\n",
        "response = model.generate_content([sample_file_5, prompt])\n",
        "\n",
        "Markdown(response.text)"
      ],
      "metadata": {
        "colab": {
          "base_uri": "https://localhost:8080/",
          "height": 208
        },
        "id": "0v01bOUVutuQ",
        "outputId": "c3ea0b3e-5b9b-42e3-898f-2b394941834c"
      },
      "execution_count": 14,
      "outputs": [
        {
          "output_type": "execute_result",
          "data": {
            "text/plain": [
              "<IPython.core.display.Markdown object>"
            ],
            "text/markdown": "```json\n{\n  'plat_no': '粤A 08550',\n  'vehicle': 'car',\n  'vehicle_type': 'sedan',\n  'expire_date': 'N/A',\n  'color': 'black',\n  'manufacturing_date': 'N/A',\n  'registered_in': 'N/A',\n  'gate_open': 'N/A',\n  'gate_closed': 'N/A'\n}\n```"
          },
          "metadata": {},
          "execution_count": 14
        }
      ]
    },
    {
      "cell_type": "code",
      "source": [
        "# PLAT DETECTION\n",
        "import PIL.Image\n",
        "import google.generativeai as genai\n",
        "\n",
        "# Choose a Gemini model.\n",
        "model = genai.GenerativeModel(model_name=\"gemini-1.5-pro-latest\")\n",
        "sample_file_6 = PIL.Image.open('motor1.webp')\n",
        "\n",
        "# Create a prompt.\n",
        "prompt = \"Read the plat number of the image with the output example  {‘plat_no’: ‘B 1234 ABC’,‘vehicle’: ‘car’,‘vehicle_type’: ‘sedan’,‘expire date’: ‘07.25’,‘color’: ‘red’,‘manufacturing_date’: ‘01.20’,‘registered in’: ‘bekasi kota’,‘gate_open’: ‘2024-12-02 18.15.01’,‘gate_closed’: ‘N/A’,}\"\n",
        "\n",
        "response = model.generate_content([sample_file_6, prompt])\n",
        "\n",
        "Markdown(response.text)"
      ],
      "metadata": {
        "colab": {
          "base_uri": "https://localhost:8080/",
          "height": 208
        },
        "id": "8yb9HlsLu5BC",
        "outputId": "48e24ced-5922-42df-9ab9-cad08bff8475"
      },
      "execution_count": 16,
      "outputs": [
        {
          "output_type": "execute_result",
          "data": {
            "text/plain": [
              "<IPython.core.display.Markdown object>"
            ],
            "text/markdown": "```json\n{\n  'plat_no': 'D 5015 VBW',\n  'vehicle': 'motorcycle',\n  'vehicle_type': 'scooter',\n  'expire_date': '03.20',\n  'color': 'white',\n  'manufacturing_date': 'N/A',\n  'registered_in': 'N/A',\n  'gate_open': 'N/A',\n  'gate_closed': 'N/A'\n}\n```"
          },
          "metadata": {},
          "execution_count": 16
        }
      ]
    },
    {
      "cell_type": "code",
      "source": [
        "# PLAT DETECTION\n",
        "import PIL.Image\n",
        "import google.generativeai as genai\n",
        "\n",
        "# Choose a Gemini model.\n",
        "model = genai.GenerativeModel(model_name=\"gemini-1.5-pro-latest\")\n",
        "sample_file_7 = PIL.Image.open('motor2.webp')\n",
        "\n",
        "# Create a prompt.\n",
        "prompt = \"Read the plat number of the image with the output example  {‘plat_no’: ‘B 1234 ABC’,‘vehicle’: ‘car’,‘vehicle_type’: ‘sedan’,‘expire date’: ‘07.25’,‘color’: ‘red’,‘manufacturing_date’: ‘01.20’,‘registered in’: ‘bekasi kota’,‘gate_open’: ‘2024-12-02 18.15.01’,‘gate_closed’: ‘N/A’,}\"\n",
        "\n",
        "response = model.generate_content([sample_file_7, prompt])\n",
        "\n",
        "Markdown(response.text)"
      ],
      "metadata": {
        "colab": {
          "base_uri": "https://localhost:8080/",
          "height": 208
        },
        "id": "bOC2YIGwvLLl",
        "outputId": "1f0ce702-5cf5-42d7-89c1-0a7f71ecb648"
      },
      "execution_count": 17,
      "outputs": [
        {
          "output_type": "execute_result",
          "data": {
            "text/plain": [
              "<IPython.core.display.Markdown object>"
            ],
            "text/markdown": "```json\n{\n  \"plat_no\": \"B62719ADN\",\n  \"vehicle\": \"motorcycle\",\n  \"vehicle_type\": \"scooter\",\n  \"expire_date\": null,\n  \"color\": \"silver/grey\",\n  \"manufacturing_date\": null,\n  \"registered_in\": null,\n  \"gate_open\": null,\n  \"gate_closed\": null\n}\n```"
          },
          "metadata": {},
          "execution_count": 17
        }
      ]
    },
    {
      "cell_type": "code",
      "source": [
        "# PLAT DETECTION\n",
        "import PIL.Image\n",
        "import google.generativeai as genai\n",
        "\n",
        "# Choose a Gemini model.\n",
        "model = genai.GenerativeModel(model_name=\"gemini-1.5-pro-latest\")\n",
        "sample_file_8 = PIL.Image.open('motor3.jpg')\n",
        "\n",
        "# Create a prompt.\n",
        "prompt = \"Read the plat number of the image with the output example  {‘plat_no’: ‘B 1234 ABC’,‘vehicle’: ‘car’,‘vehicle_type’: ‘sedan’,‘expire date’: ‘07.25’,‘color’: ‘red’,‘manufacturing_date’: ‘01.20’,‘registered in’: ‘bekasi kota’,‘gate_open’: ‘2024-12-02 18.15.01’,‘gate_closed’: ‘N/A’,}\"\n",
        "\n",
        "response = model.generate_content([sample_file_8, prompt])\n",
        "\n",
        "Markdown(response.text)"
      ],
      "metadata": {
        "colab": {
          "base_uri": "https://localhost:8080/",
          "height": 208
        },
        "id": "1hngsOizviJZ",
        "outputId": "d235cc37-75f0-40be-92f9-e5758e9a6c76"
      },
      "execution_count": 18,
      "outputs": [
        {
          "output_type": "execute_result",
          "data": {
            "text/plain": [
              "<IPython.core.display.Markdown object>"
            ],
            "text/markdown": "```json\n{\n  \"plat_no\": \"B 3791 EHF\",\n  \"vehicle\": \"motor\",\n  \"vehicle_type\": \"scooter\",\n  \"expire_date\": \"10-25\",\n  \"color\": \"white\",\n  \"manufacturing_date\": \"N/A\",\n  \"registered in\": \"N/A\",\n  \"gate_open\": \"N/A\",\n  \"gate_closed\": \"N/A\"\n}\n```"
          },
          "metadata": {},
          "execution_count": 18
        }
      ]
    }
  ],
  "metadata": {
    "colab": {
      "provenance": []
    },
    "kernelspec": {
      "display_name": "Python 3",
      "name": "python3"
    }
  },
  "nbformat": 4,
  "nbformat_minor": 0
}